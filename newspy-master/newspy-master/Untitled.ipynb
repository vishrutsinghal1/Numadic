{
 "cells": [
  {
   "cell_type": "code",
   "execution_count": 2,
   "id": "minute-microwave",
   "metadata": {},
   "outputs": [
    {
     "name": "stdout",
     "output_type": "stream",
     "text": [
      "Collecting asn1crypto==0.24.0\n",
      "  Using cached asn1crypto-0.24.0-py2.py3-none-any.whl (101 kB)\n",
      "Collecting attrs==17.2.0\n",
      "  Using cached attrs-17.2.0-py2.py3-none-any.whl (24 kB)\n",
      "Collecting Automat==0.6.0\n",
      "  Using cached Automat-0.6.0-py2.py3-none-any.whl (35 kB)\n",
      "Collecting certifi==2019.3.9\n",
      "  Using cached certifi-2019.3.9-py2.py3-none-any.whl (158 kB)\n",
      "Collecting chardet==3.0.4\n",
      "  Downloading chardet-3.0.4-py2.py3-none-any.whl (133 kB)\n",
      "Collecting click==6.7\n",
      "  Downloading click-6.7-py2.py3-none-any.whl (71 kB)\n",
      "Requirement already satisfied: constantly==15.1.0 in c:\\users\\singh\\anaconda3\\lib\\site-packages (from -r REQUIREMENTS.txt (line 8)) (15.1.0)\n",
      "Collecting cryptography==2.6.1\n",
      "  Downloading cryptography-2.6.1.tar.gz (491 kB)\n",
      "  Installing build dependencies: started\n",
      "  Installing build dependencies: finished with status 'done'\n",
      "  Getting requirements to build wheel: started\n",
      "  Getting requirements to build wheel: finished with status 'done'\n",
      "    Preparing wheel metadata: started\n",
      "    Preparing wheel metadata: finished with status 'done'\n",
      "Collecting cssselect==1.0.1\n",
      "  Downloading cssselect-1.0.1-py2.py3-none-any.whl (15 kB)\n",
      "Collecting Flask==0.12.2\n",
      "  Downloading Flask-0.12.2-py2.py3-none-any.whl (83 kB)\n",
      "Collecting hyperlink==17.3.1\n",
      "  Downloading hyperlink-17.3.1-py2.py3-none-any.whl (73 kB)\n",
      "Collecting idna==2.8\n",
      "  Downloading idna-2.8-py2.py3-none-any.whl (58 kB)\n",
      "Collecting incremental==17.5.0\n",
      "  Downloading incremental-17.5.0-py2.py3-none-any.whl (16 kB)\n",
      "Collecting itsdangerous==0.24\n",
      "  Downloading itsdangerous-0.24.tar.gz (46 kB)\n",
      "Collecting Jinja2==2.9.6\n",
      "  Downloading Jinja2-2.9.6-py2.py3-none-any.whl (340 kB)\n",
      "Collecting lxml==3.8.0\n",
      "  Downloading lxml-3.8.0.tar.gz (3.8 MB)\n",
      "Collecting MarkupSafe==1.0\n",
      "  Downloading MarkupSafe-1.0.tar.gz (14 kB)\n"
     ]
    },
    {
     "name": "stderr",
     "output_type": "stream",
     "text": [
      "    ERROR: Command errored out with exit status 1:\n",
      "     command: 'C:\\Users\\singh\\anaconda3\\python.exe' -c 'import sys, setuptools, tokenize; sys.argv[0] = '\"'\"'C:\\\\Users\\\\singh\\\\AppData\\\\Local\\\\Temp\\\\pip-install-uumoaxz5\\\\markupsafe_c0bda731b9d7439292213ed3706bd71c\\\\setup.py'\"'\"'; __file__='\"'\"'C:\\\\Users\\\\singh\\\\AppData\\\\Local\\\\Temp\\\\pip-install-uumoaxz5\\\\markupsafe_c0bda731b9d7439292213ed3706bd71c\\\\setup.py'\"'\"';f=getattr(tokenize, '\"'\"'open'\"'\"', open)(__file__);code=f.read().replace('\"'\"'\\r\\n'\"'\"', '\"'\"'\\n'\"'\"');f.close();exec(compile(code, __file__, '\"'\"'exec'\"'\"'))' egg_info --egg-base 'C:\\Users\\singh\\AppData\\Local\\Temp\\pip-pip-egg-info-vtyra80t'\n",
      "         cwd: C:\\Users\\singh\\AppData\\Local\\Temp\\pip-install-uumoaxz5\\markupsafe_c0bda731b9d7439292213ed3706bd71c\\\n",
      "    Complete output (5 lines):\n",
      "    Traceback (most recent call last):\n",
      "      File \"<string>\", line 1, in <module>\n",
      "      File \"C:\\Users\\singh\\AppData\\Local\\Temp\\pip-install-uumoaxz5\\markupsafe_c0bda731b9d7439292213ed3706bd71c\\setup.py\", line 6, in <module>\n",
      "        from setuptools import setup, Extension, Feature\n",
      "    ImportError: cannot import name 'Feature' from 'setuptools' (C:\\Users\\singh\\anaconda3\\lib\\site-packages\\setuptools\\__init__.py)\n",
      "    ----------------------------------------\n",
      "WARNING: Discarding https://files.pythonhosted.org/packages/4d/de/32d741db316d8fdb7680822dd37001ef7a448255de9699ab4bfcbdf4172b/MarkupSafe-1.0.tar.gz#sha256=a6be69091dac236ea9c6bc7d012beab42010fa914c459791d627dad4910eb665 (from https://pypi.org/simple/markupsafe/). Command errored out with exit status 1: python setup.py egg_info Check the logs for full command output.\n",
      "ERROR: Could not find a version that satisfies the requirement MarkupSafe==1.0\n",
      "ERROR: No matching distribution found for MarkupSafe==1.0\n"
     ]
    }
   ],
   "source": [
    "\n",
    "!pip install -r REQUIREMENTS.txt"
   ]
  },
  {
   "cell_type": "code",
   "execution_count": null,
   "id": "animated-sleeve",
   "metadata": {},
   "outputs": [],
   "source": []
  }
 ],
 "metadata": {
  "kernelspec": {
   "display_name": "Python 3",
   "language": "python",
   "name": "python3"
  },
  "language_info": {
   "codemirror_mode": {
    "name": "ipython",
    "version": 3
   },
   "file_extension": ".py",
   "mimetype": "text/x-python",
   "name": "python",
   "nbconvert_exporter": "python",
   "pygments_lexer": "ipython3",
   "version": "3.8.5"
  }
 },
 "nbformat": 4,
 "nbformat_minor": 5
}
